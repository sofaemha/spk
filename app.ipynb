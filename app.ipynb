{
  "cells": [
    {
      "cell_type": "markdown",
      "metadata": {
        "id": "view-in-github",
        "colab_type": "text"
      },
      "source": [
        "<a href=\"https://colab.research.google.com/github/sofaemha/spk/blob/main/app.ipynb\" target=\"_parent\"><img src=\"https://colab.research.google.com/assets/colab-badge.svg\" alt=\"Open In Colab\"/></a>"
      ]
    },
    {
      "cell_type": "markdown",
      "source": [
        "# Analytic Hierarchy Process\n",
        "\n",
        "> AHP is a structured technique for organizing and analyzing complex decisions, based on mathematics and psychology. The process involves pairwise comparisons of criteria and alternatives, followed by deriving weights and consistency ratios to evaluate the decision."
      ],
      "metadata": {
        "id": "NPZiho-O_SQq"
      }
    },
    {
      "cell_type": "markdown",
      "source": [
        "## Pre-Requisite"
      ],
      "metadata": {
        "id": "RIGru8JK_oEG"
      }
    },
    {
      "cell_type": "markdown",
      "source": [
        "### Importing Library"
      ],
      "metadata": {
        "id": "aamg2E1l_w7x"
      }
    },
    {
      "cell_type": "code",
      "source": [
        "from rich.console import Console\n",
        "from rich import print\n",
        "from rich.panel import Panel\n",
        "from rich.padding import Padding\n",
        "from rich.text import Text\n",
        "from rich.table import Table\n",
        "from rich.prompt import Prompt"
      ],
      "metadata": {
        "id": "eYSsLv3k_ng8"
      },
      "execution_count": 49,
      "outputs": []
    },
    {
      "cell_type": "code",
      "source": [
        "import numpy as np"
      ],
      "metadata": {
        "id": "arks5lON_cob"
      },
      "execution_count": 4,
      "outputs": []
    },
    {
      "cell_type": "markdown",
      "source": [
        "### Define System Function"
      ],
      "metadata": {
        "id": "E_iNfQn8_7Fe"
      }
    },
    {
      "cell_type": "code",
      "source": [
        "def p(*argument):\n",
        "  console = Console()\n",
        "  console.print(*argument)"
      ],
      "metadata": {
        "id": "6QotAPFCKHAQ"
      },
      "execution_count": 50,
      "outputs": []
    },
    {
      "cell_type": "code",
      "source": [
        "def gap(size=1):\n",
        "  padding = \"\\n\" * size\n",
        "  return padding"
      ],
      "metadata": {
        "id": "4tw309TNAVD-"
      },
      "execution_count": 28,
      "outputs": []
    },
    {
      "cell_type": "code",
      "source": [
        "def space(size=1):\n",
        "  print(Padding(\"\", size))"
      ],
      "metadata": {
        "id": "hd30ULjm__7A"
      },
      "execution_count": 43,
      "outputs": []
    },
    {
      "cell_type": "code",
      "source": [
        "def panel(content, title=\"\", subtitle=\"\", justify=\"center\", fit=False):\n",
        "  text = Text(text, justify=justify) if type(content) == str else content\n",
        "  return Panel.fit(text, title=title, subtitle=subtitle) if fit else Panel(text, title=title, subtitle=subtitle)"
      ],
      "metadata": {
        "id": "Ik7hduBq_0fW"
      },
      "execution_count": 109,
      "outputs": []
    },
    {
      "cell_type": "code",
      "source": [
        "def title(text, prefix=False, suffix=False, gap=1, justify=\"center\"):\n",
        "    return Padding(\n",
        "        Text(f\"{text}\", justify=justify),\n",
        "        (gap if prefix else 0, 0, gap if suffix else 0, 0)\n",
        "    )"
      ],
      "metadata": {
        "id": "lZx1r75cBSM4"
      },
      "execution_count": 110,
      "outputs": []
    },
    {
      "cell_type": "markdown",
      "source": [
        "## Main Course"
      ],
      "metadata": {
        "id": "GzLxa3EPAEXI"
      }
    },
    {
      "cell_type": "code",
      "source": [
        "panel(title(\"Analytical Hierarchy Process\\nCalculator\", True, True))"
      ],
      "metadata": {
        "colab": {
          "base_uri": "https://localhost:8080/",
          "height": 131
        },
        "id": "qBltUwwBAA7F",
        "outputId": "65a92eb6-d13c-4606-af5e-c3ac4fdea7a8"
      },
      "execution_count": 111,
      "outputs": [
        {
          "output_type": "execute_result",
          "data": {
            "text/plain": [
              "╭─────────────────────────────────────────────────────────────────────────────────────────────────────────────────╮\n",
              "│                                                                                                                 │\n",
              "│                                          Analytical Hierarchy Process                                           │\n",
              "│                                                   Calculator                                                    │\n",
              "│                                                                                                                 │\n",
              "╰─────────────────────────────────────────────────────────────────────────────────────────────────────────────────╯\n"
            ],
            "text/html": [
              "<pre style=\"white-space:pre;overflow-x:auto;line-height:normal;font-family:Menlo,'DejaVu Sans Mono',consolas,'Courier New',monospace\">╭─────────────────────────────────────────────────────────────────────────────────────────────────────────────────╮\n",
              "│                                                                                                                 │\n",
              "│                                          Analytical Hierarchy Process                                           │\n",
              "│                                                   Calculator                                                    │\n",
              "│                                                                                                                 │\n",
              "╰─────────────────────────────────────────────────────────────────────────────────────────────────────────────────╯\n",
              "</pre>\n"
            ]
          },
          "metadata": {},
          "execution_count": 111
        }
      ]
    },
    {
      "cell_type": "code",
      "source": [
        "# Input number of criteria\n",
        "number_criteria = int(Prompt.ask(\"Enter the number of criteria\"))\n",
        "criteria_matrix = np.zeros((number_criteria, number_criteria))"
      ],
      "metadata": {
        "colab": {
          "base_uri": "https://localhost:8080/",
          "height": 51
        },
        "id": "BA-uyluLPfT1",
        "outputId": "4bdf45e9-18d9-4583-ac8d-2cc1729ef76d"
      },
      "execution_count": 114,
      "outputs": [
        {
          "output_type": "display_data",
          "data": {
            "text/plain": [
              "Enter the number of criteria: "
            ],
            "text/html": [
              "<pre style=\"white-space:pre;overflow-x:auto;line-height:normal;font-family:Menlo,'DejaVu Sans Mono',consolas,'Courier New',monospace\">Enter the number of criteria: </pre>\n"
            ]
          },
          "metadata": {}
        },
        {
          "name": "stdout",
          "output_type": "stream",
          "text": [
            "4\n"
          ]
        }
      ]
    },
    {
      "cell_type": "code",
      "source": [
        "panel(title(\"Enter the pairwise comparison values for criteria (use Saaty scale: 1-9, and reciprocals)\", True, True))"
      ],
      "metadata": {
        "colab": {
          "base_uri": "https://localhost:8080/",
          "height": 114
        },
        "id": "ojZwtOTuWzxI",
        "outputId": "1d69646d-4c3c-4183-8327-cc4b42df758a"
      },
      "execution_count": 126,
      "outputs": [
        {
          "output_type": "execute_result",
          "data": {
            "text/plain": [
              "╭─────────────────────────────────────────────────────────────────────────────────────────────────────────────────╮\n",
              "│                                                                                                                 │\n",
              "│            Enter the pairwise comparison values for criteria (use Saaty scale: 1-9, and reciprocals)            │\n",
              "│                                                                                                                 │\n",
              "╰─────────────────────────────────────────────────────────────────────────────────────────────────────────────────╯\n"
            ],
            "text/html": [
              "<pre style=\"white-space:pre;overflow-x:auto;line-height:normal;font-family:Menlo,'DejaVu Sans Mono',consolas,'Courier New',monospace\">╭─────────────────────────────────────────────────────────────────────────────────────────────────────────────────╮\n",
              "│                                                                                                                 │\n",
              "│            Enter the pairwise comparison values for criteria (use Saaty scale: 1-9, and reciprocals)            │\n",
              "│                                                                                                                 │\n",
              "╰─────────────────────────────────────────────────────────────────────────────────────────────────────────────────╯\n",
              "</pre>\n"
            ]
          },
          "metadata": {},
          "execution_count": 126
        }
      ]
    },
    {
      "cell_type": "code",
      "source": [
        "for i in range(number_criteria):\n",
        "    for j in range(i + 1, number_criteria):\n",
        "        value = float(Prompt.ask(f\"\\nCompare criterion {i+1} to {j+1}\", choices=[\"1\", \"2\", \"3\", \"4\", \"5\", \"6\", \"7\", \"8\", \"9\"]))\n",
        "        criteria_matrix[i, j] = value\n",
        "        criteria_matrix[j, i] = 1 / value\n",
        "    criteria_matrix[i, i] = 1.0  # Diagonal is 1"
      ],
      "metadata": {
        "colab": {
          "base_uri": "https://localhost:8080/",
          "height": 275
        },
        "id": "uMJMFaBBPzSS",
        "outputId": "6b24edee-7932-4cc6-eaeb-05fbcfcae4f3"
      },
      "execution_count": 129,
      "outputs": [
        {
          "output_type": "display_data",
          "data": {
            "text/plain": [
              "\n",
              "Compare criterion 1 to 2 \u001b[1;35m[1/2/3/4/5/6/7/8/9]\u001b[0m: "
            ],
            "text/html": [
              "<pre style=\"white-space:pre;overflow-x:auto;line-height:normal;font-family:Menlo,'DejaVu Sans Mono',consolas,'Courier New',monospace\">\n",
              "Compare criterion 1 to 2 <span style=\"color: #800080; text-decoration-color: #800080; font-weight: bold\">[1/2/3/4/5/6/7/8/9]</span>: </pre>\n"
            ]
          },
          "metadata": {}
        },
        {
          "name": "stdout",
          "output_type": "stream",
          "text": [
            "1\n"
          ]
        },
        {
          "output_type": "display_data",
          "data": {
            "text/plain": [
              "\n",
              "Compare criterion 1 to 3 \u001b[1;35m[1/2/3/4/5/6/7/8/9]\u001b[0m: "
            ],
            "text/html": [
              "<pre style=\"white-space:pre;overflow-x:auto;line-height:normal;font-family:Menlo,'DejaVu Sans Mono',consolas,'Courier New',monospace\">\n",
              "Compare criterion 1 to 3 <span style=\"color: #800080; text-decoration-color: #800080; font-weight: bold\">[1/2/3/4/5/6/7/8/9]</span>: </pre>\n"
            ]
          },
          "metadata": {}
        },
        {
          "name": "stdout",
          "output_type": "stream",
          "text": [
            "\n"
          ]
        },
        {
          "output_type": "display_data",
          "data": {
            "text/plain": [
              "\u001b[31mPlease select one of the available options\u001b[0m\n"
            ],
            "text/html": [
              "<pre style=\"white-space:pre;overflow-x:auto;line-height:normal;font-family:Menlo,'DejaVu Sans Mono',consolas,'Courier New',monospace\"><span style=\"color: #800000; text-decoration-color: #800000\">Please select one of the available options</span>\n",
              "</pre>\n"
            ]
          },
          "metadata": {}
        },
        {
          "output_type": "display_data",
          "data": {
            "text/plain": [
              "\n",
              "Compare criterion 1 to 3 \u001b[1;35m[1/2/3/4/5/6/7/8/9]\u001b[0m: "
            ],
            "text/html": [
              "<pre style=\"white-space:pre;overflow-x:auto;line-height:normal;font-family:Menlo,'DejaVu Sans Mono',consolas,'Courier New',monospace\">\n",
              "Compare criterion 1 to 3 <span style=\"color: #800080; text-decoration-color: #800080; font-weight: bold\">[1/2/3/4/5/6/7/8/9]</span>: </pre>\n"
            ]
          },
          "metadata": {}
        },
        {
          "name": "stdout",
          "output_type": "stream",
          "text": [
            "2\n"
          ]
        },
        {
          "output_type": "display_data",
          "data": {
            "text/plain": [
              "\n",
              "Compare criterion 1 to 4 \u001b[1;35m[1/2/3/4/5/6/7/8/9]\u001b[0m: "
            ],
            "text/html": [
              "<pre style=\"white-space:pre;overflow-x:auto;line-height:normal;font-family:Menlo,'DejaVu Sans Mono',consolas,'Courier New',monospace\">\n",
              "Compare criterion 1 to 4 <span style=\"color: #800080; text-decoration-color: #800080; font-weight: bold\">[1/2/3/4/5/6/7/8/9]</span>: </pre>\n"
            ]
          },
          "metadata": {}
        },
        {
          "name": "stdout",
          "output_type": "stream",
          "text": [
            "3\n"
          ]
        },
        {
          "output_type": "display_data",
          "data": {
            "text/plain": [
              "\n",
              "Compare criterion 2 to 3 \u001b[1;35m[1/2/3/4/5/6/7/8/9]\u001b[0m: "
            ],
            "text/html": [
              "<pre style=\"white-space:pre;overflow-x:auto;line-height:normal;font-family:Menlo,'DejaVu Sans Mono',consolas,'Courier New',monospace\">\n",
              "Compare criterion 2 to 3 <span style=\"color: #800080; text-decoration-color: #800080; font-weight: bold\">[1/2/3/4/5/6/7/8/9]</span>: </pre>\n"
            ]
          },
          "metadata": {}
        },
        {
          "name": "stdout",
          "output_type": "stream",
          "text": [
            "4\n"
          ]
        },
        {
          "output_type": "display_data",
          "data": {
            "text/plain": [
              "\n",
              "Compare criterion 2 to 4 \u001b[1;35m[1/2/3/4/5/6/7/8/9]\u001b[0m: "
            ],
            "text/html": [
              "<pre style=\"white-space:pre;overflow-x:auto;line-height:normal;font-family:Menlo,'DejaVu Sans Mono',consolas,'Courier New',monospace\">\n",
              "Compare criterion 2 to 4 <span style=\"color: #800080; text-decoration-color: #800080; font-weight: bold\">[1/2/3/4/5/6/7/8/9]</span>: </pre>\n"
            ]
          },
          "metadata": {}
        },
        {
          "name": "stdout",
          "output_type": "stream",
          "text": [
            "5\n"
          ]
        },
        {
          "output_type": "display_data",
          "data": {
            "text/plain": [
              "\n",
              "Compare criterion 3 to 4 \u001b[1;35m[1/2/3/4/5/6/7/8/9]\u001b[0m: "
            ],
            "text/html": [
              "<pre style=\"white-space:pre;overflow-x:auto;line-height:normal;font-family:Menlo,'DejaVu Sans Mono',consolas,'Courier New',monospace\">\n",
              "Compare criterion 3 to 4 <span style=\"color: #800080; text-decoration-color: #800080; font-weight: bold\">[1/2/3/4/5/6/7/8/9]</span>: </pre>\n"
            ]
          },
          "metadata": {}
        },
        {
          "name": "stdout",
          "output_type": "stream",
          "text": [
            "6\n"
          ]
        }
      ]
    },
    {
      "cell_type": "code",
      "source": [],
      "metadata": {
        "id": "qSTwRiecTUAA"
      },
      "execution_count": null,
      "outputs": []
    }
  ],
  "metadata": {
    "colab": {
      "name": "Welcome To Colab",
      "provenance": [],
      "include_colab_link": true
    },
    "kernelspec": {
      "display_name": "Python 3",
      "name": "python3"
    }
  },
  "nbformat": 4,
  "nbformat_minor": 0
}