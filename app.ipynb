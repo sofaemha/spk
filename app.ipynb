{
  "cells": [
    {
      "cell_type": "markdown",
      "metadata": {
        "id": "view-in-github",
        "colab_type": "text"
      },
      "source": [
        "<a href=\"https://colab.research.google.com/github/sofaemha/spk/blob/main/app.ipynb\" target=\"_parent\"><img src=\"https://colab.research.google.com/assets/colab-badge.svg\" alt=\"Open In Colab\"/></a>"
      ]
    },
    {
      "cell_type": "markdown",
      "source": [
        "# Analytic Hierarchy Process\n",
        "\n",
        "> AHP is a structured technique for organizing and analyzing complex decisions, based on mathematics and psychology. The process involves pairwise comparisons of criteria and alternatives, followed by deriving weights and consistency ratios to evaluate the decision."
      ],
      "metadata": {
        "id": "NPZiho-O_SQq"
      }
    },
    {
      "cell_type": "markdown",
      "source": [
        "## Pre-Requisite"
      ],
      "metadata": {
        "id": "RIGru8JK_oEG"
      }
    },
    {
      "cell_type": "markdown",
      "source": [
        "### Importing Library"
      ],
      "metadata": {
        "id": "aamg2E1l_w7x"
      }
    },
    {
      "cell_type": "markdown",
      "source": [
        "#### Rich Text"
      ],
      "metadata": {
        "id": "XsjCQnvnDswQ"
      }
    },
    {
      "cell_type": "code",
      "source": [
        "from rich.console import Console\n",
        "from rich import print\n",
        "from rich.panel import Panel\n",
        "from rich.padding import Padding\n",
        "from rich.text import Text\n",
        "from rich.table import Table\n",
        "from rich.prompt import Prompt"
      ],
      "metadata": {
        "id": "eYSsLv3k_ng8"
      },
      "execution_count": 1,
      "outputs": []
    },
    {
      "cell_type": "markdown",
      "source": [
        "#### System"
      ],
      "metadata": {
        "id": "iFSMqq16DykK"
      }
    },
    {
      "cell_type": "code",
      "source": [
        "import numpy as np"
      ],
      "metadata": {
        "id": "arks5lON_cob"
      },
      "execution_count": 2,
      "outputs": []
    },
    {
      "cell_type": "markdown",
      "source": [
        "### Define System Function"
      ],
      "metadata": {
        "id": "E_iNfQn8_7Fe"
      }
    },
    {
      "cell_type": "code",
      "source": [
        "def p(*argument):\n",
        "  console = Console()\n",
        "  console.print(*argument)"
      ],
      "metadata": {
        "id": "6QotAPFCKHAQ"
      },
      "execution_count": 3,
      "outputs": []
    },
    {
      "cell_type": "code",
      "source": [
        "def gap(size=1):\n",
        "  padding = \"\\n\" * size\n",
        "  return padding"
      ],
      "metadata": {
        "id": "4tw309TNAVD-"
      },
      "execution_count": 4,
      "outputs": []
    },
    {
      "cell_type": "code",
      "source": [
        "def space(size=1):\n",
        "  p(Padding(\"\", size))"
      ],
      "metadata": {
        "id": "hd30ULjm__7A"
      },
      "execution_count": 50,
      "outputs": []
    },
    {
      "cell_type": "code",
      "source": [
        "def panel(content, title=\"\", subtitle=\"\", justify=\"center\", fit=False):\n",
        "  text = Text(text, justify=justify) if type(content) == str else content\n",
        "  p(Panel.fit(text, title=title, subtitle=subtitle) if fit else Panel(text, title=title, subtitle=subtitle))"
      ],
      "metadata": {
        "id": "Ik7hduBq_0fW"
      },
      "execution_count": 40,
      "outputs": []
    },
    {
      "cell_type": "code",
      "source": [
        "def title(text, prefix=False, suffix=False, gap=1, justify=\"center\"):\n",
        "    return Padding(\n",
        "        Text(f\"{text}\", justify=justify),\n",
        "        (gap if prefix else 0, 0, gap if suffix else 0, 0)\n",
        "    )"
      ],
      "metadata": {
        "id": "lZx1r75cBSM4"
      },
      "execution_count": 37,
      "outputs": []
    },
    {
      "cell_type": "code",
      "source": [
        "def transpose(array):\n",
        "    matrix = array.reshape(-1, 1)\n",
        "    row, column = matrix.shape\n",
        "    return matrix, row, column"
      ],
      "metadata": {
        "id": "HhLqjE5GkB90"
      },
      "execution_count": 72,
      "outputs": []
    },
    {
      "cell_type": "code",
      "source": [
        "def table(size, array, title=\"\", tcol=\"\", trow=\"\", icol=True, irow=True, index=1):\n",
        "  size_column, size_row = size\n",
        "  table = Table(show_header=True)\n",
        "  table.add_column(title, justify=\"center\", no_wrap=True)\n",
        "\n",
        "  for i in range(size_column):\n",
        "    col_label = f\"{tcol}{i+index}\" if icol else f\"{tcol}\"\n",
        "    table.add_column(col_label, justify=\"center\")\n",
        "\n",
        "  for i in range(size_row):\n",
        "    row_label = f\"{trow}{i+index}\" if irow else f\"{trow}\"\n",
        "    row_data = [f\"{array[i][j]:.7f}\".rstrip('0').rstrip('.') for j in range(size_column)]\n",
        "    table.add_row(row_label, *row_data)\n",
        "\n",
        "  print(table)"
      ],
      "metadata": {
        "id": "m3_j3876e9t0"
      },
      "execution_count": 119,
      "outputs": []
    },
    {
      "cell_type": "markdown",
      "source": [
        "## Main Course"
      ],
      "metadata": {
        "id": "GzLxa3EPAEXI"
      }
    },
    {
      "cell_type": "code",
      "source": [
        "panel(title(\"Analytical Hierarchy Process\\nCalculator\", True, True))"
      ],
      "metadata": {
        "colab": {
          "base_uri": "https://localhost:8080/",
          "height": 119
        },
        "id": "qBltUwwBAA7F",
        "outputId": "121a404d-9ac6-44ca-b9f3-1cd255b240e8"
      },
      "execution_count": 41,
      "outputs": [
        {
          "output_type": "display_data",
          "data": {
            "text/plain": [
              "╭─────────────────────────────────────────────────────────────────────────────────────────────────────────────────╮\n",
              "│                                                                                                                 │\n",
              "│                                          Analytical Hierarchy Process                                           │\n",
              "│                                                   Calculator                                                    │\n",
              "│                                                                                                                 │\n",
              "╰─────────────────────────────────────────────────────────────────────────────────────────────────────────────────╯\n"
            ],
            "text/html": [
              "<pre style=\"white-space:pre;overflow-x:auto;line-height:normal;font-family:Menlo,'DejaVu Sans Mono',consolas,'Courier New',monospace\">╭─────────────────────────────────────────────────────────────────────────────────────────────────────────────────╮\n",
              "│                                                                                                                 │\n",
              "│                                          Analytical Hierarchy Process                                           │\n",
              "│                                                   Calculator                                                    │\n",
              "│                                                                                                                 │\n",
              "╰─────────────────────────────────────────────────────────────────────────────────────────────────────────────────╯\n",
              "</pre>\n"
            ]
          },
          "metadata": {}
        }
      ]
    },
    {
      "cell_type": "markdown",
      "source": [
        "### Calculate Criteria Priority"
      ],
      "metadata": {
        "id": "wNfntkBZDPrO"
      }
    },
    {
      "cell_type": "code",
      "source": [
        "number_criteria = int(Prompt.ask(\"Enter the number of criteria\"))\n",
        "criteria_matrix = np.zeros((number_criteria, number_criteria))"
      ],
      "metadata": {
        "colab": {
          "base_uri": "https://localhost:8080/",
          "height": 51
        },
        "id": "BA-uyluLPfT1",
        "outputId": "53ef53dd-2364-40c7-deaf-5df5cdf111ea"
      },
      "execution_count": 89,
      "outputs": [
        {
          "output_type": "display_data",
          "data": {
            "text/plain": [
              "Enter the number of criteria: "
            ],
            "text/html": [
              "<pre style=\"white-space:pre;overflow-x:auto;line-height:normal;font-family:Menlo,'DejaVu Sans Mono',consolas,'Courier New',monospace\">Enter the number of criteria: </pre>\n"
            ]
          },
          "metadata": {}
        },
        {
          "name": "stdout",
          "output_type": "stream",
          "text": [
            "5\n"
          ]
        }
      ]
    },
    {
      "cell_type": "code",
      "source": [
        "panel(title(\"Enter the pairwise comparison values for criteria (use Saaty scale: 1-9, and reciprocals\", True, True), fit=True)\n",
        "space()\n",
        "\n",
        "for i in range(number_criteria):\n",
        "    for j in range(i + 1, number_criteria):\n",
        "        value = float(Prompt.ask(f\"\\nCompare criterion {i+1} to {j+1}\", choices=[\"1\", \"2\", \"3\", \"4\", \"5\", \"6\", \"7\", \"8\", \"9\"]))\n",
        "        criteria_matrix[i, j] = value\n",
        "        criteria_matrix[j, i] = 1 / value\n",
        "    criteria_matrix[i, i] = 1.0"
      ],
      "metadata": {
        "colab": {
          "base_uri": "https://localhost:8080/",
          "height": 497
        },
        "id": "uMJMFaBBPzSS",
        "outputId": "63149cc3-62cd-4190-bbc4-7e0fbbb53f4a"
      },
      "execution_count": 160,
      "outputs": [
        {
          "output_type": "display_data",
          "data": {
            "text/plain": [
              "╭──────────────────────────────────────────────────────────────────────────────────────────╮\n",
              "│                                                                                          │\n",
              "│ Enter the pairwise comparison values for criteria (use Saaty scale: 1-9, and reciprocals │\n",
              "│                                                                                          │\n",
              "╰──────────────────────────────────────────────────────────────────────────────────────────╯\n"
            ],
            "text/html": [
              "<pre style=\"white-space:pre;overflow-x:auto;line-height:normal;font-family:Menlo,'DejaVu Sans Mono',consolas,'Courier New',monospace\">╭──────────────────────────────────────────────────────────────────────────────────────────╮\n",
              "│                                                                                          │\n",
              "│ Enter the pairwise comparison values for criteria (use Saaty scale: 1-9, and reciprocals │\n",
              "│                                                                                          │\n",
              "╰──────────────────────────────────────────────────────────────────────────────────────────╯\n",
              "</pre>\n"
            ]
          },
          "metadata": {}
        },
        {
          "output_type": "display_data",
          "data": {
            "text/plain": [
              "                                                                                                                   \n",
              "                                                                                                                   \n",
              "                                                                                                                   \n"
            ],
            "text/html": [
              "<pre style=\"white-space:pre;overflow-x:auto;line-height:normal;font-family:Menlo,'DejaVu Sans Mono',consolas,'Courier New',monospace\">                                                                                                                   \n",
              "                                                                                                                   \n",
              "                                                                                                                   \n",
              "</pre>\n"
            ]
          },
          "metadata": {}
        },
        {
          "output_type": "display_data",
          "data": {
            "text/plain": [
              "\n",
              "Compare criterion 1 to 2 \u001b[1;35m[1/2/3/4/5/6/7/8/9]\u001b[0m: "
            ],
            "text/html": [
              "<pre style=\"white-space:pre;overflow-x:auto;line-height:normal;font-family:Menlo,'DejaVu Sans Mono',consolas,'Courier New',monospace\">\n",
              "Compare criterion 1 to 2 <span style=\"color: #800080; text-decoration-color: #800080; font-weight: bold\">[1/2/3/4/5/6/7/8/9]</span>: </pre>\n"
            ]
          },
          "metadata": {}
        },
        {
          "name": "stdout",
          "output_type": "stream",
          "text": [
            "3\n"
          ]
        },
        {
          "output_type": "display_data",
          "data": {
            "text/plain": [
              "\n",
              "Compare criterion 1 to 3 \u001b[1;35m[1/2/3/4/5/6/7/8/9]\u001b[0m: "
            ],
            "text/html": [
              "<pre style=\"white-space:pre;overflow-x:auto;line-height:normal;font-family:Menlo,'DejaVu Sans Mono',consolas,'Courier New',monospace\">\n",
              "Compare criterion 1 to 3 <span style=\"color: #800080; text-decoration-color: #800080; font-weight: bold\">[1/2/3/4/5/6/7/8/9]</span>: </pre>\n"
            ]
          },
          "metadata": {}
        },
        {
          "name": "stdout",
          "output_type": "stream",
          "text": [
            "5\n"
          ]
        },
        {
          "output_type": "display_data",
          "data": {
            "text/plain": [
              "\n",
              "Compare criterion 1 to 4 \u001b[1;35m[1/2/3/4/5/6/7/8/9]\u001b[0m: "
            ],
            "text/html": [
              "<pre style=\"white-space:pre;overflow-x:auto;line-height:normal;font-family:Menlo,'DejaVu Sans Mono',consolas,'Courier New',monospace\">\n",
              "Compare criterion 1 to 4 <span style=\"color: #800080; text-decoration-color: #800080; font-weight: bold\">[1/2/3/4/5/6/7/8/9]</span>: </pre>\n"
            ]
          },
          "metadata": {}
        },
        {
          "name": "stdout",
          "output_type": "stream",
          "text": [
            "7\n"
          ]
        },
        {
          "output_type": "display_data",
          "data": {
            "text/plain": [
              "\n",
              "Compare criterion 1 to 5 \u001b[1;35m[1/2/3/4/5/6/7/8/9]\u001b[0m: "
            ],
            "text/html": [
              "<pre style=\"white-space:pre;overflow-x:auto;line-height:normal;font-family:Menlo,'DejaVu Sans Mono',consolas,'Courier New',monospace\">\n",
              "Compare criterion 1 to 5 <span style=\"color: #800080; text-decoration-color: #800080; font-weight: bold\">[1/2/3/4/5/6/7/8/9]</span>: </pre>\n"
            ]
          },
          "metadata": {}
        },
        {
          "name": "stdout",
          "output_type": "stream",
          "text": [
            "9\n"
          ]
        },
        {
          "output_type": "display_data",
          "data": {
            "text/plain": [
              "\n",
              "Compare criterion 2 to 3 \u001b[1;35m[1/2/3/4/5/6/7/8/9]\u001b[0m: "
            ],
            "text/html": [
              "<pre style=\"white-space:pre;overflow-x:auto;line-height:normal;font-family:Menlo,'DejaVu Sans Mono',consolas,'Courier New',monospace\">\n",
              "Compare criterion 2 to 3 <span style=\"color: #800080; text-decoration-color: #800080; font-weight: bold\">[1/2/3/4/5/6/7/8/9]</span>: </pre>\n"
            ]
          },
          "metadata": {}
        },
        {
          "name": "stdout",
          "output_type": "stream",
          "text": [
            "3\n"
          ]
        },
        {
          "output_type": "display_data",
          "data": {
            "text/plain": [
              "\n",
              "Compare criterion 2 to 4 \u001b[1;35m[1/2/3/4/5/6/7/8/9]\u001b[0m: "
            ],
            "text/html": [
              "<pre style=\"white-space:pre;overflow-x:auto;line-height:normal;font-family:Menlo,'DejaVu Sans Mono',consolas,'Courier New',monospace\">\n",
              "Compare criterion 2 to 4 <span style=\"color: #800080; text-decoration-color: #800080; font-weight: bold\">[1/2/3/4/5/6/7/8/9]</span>: </pre>\n"
            ]
          },
          "metadata": {}
        },
        {
          "name": "stdout",
          "output_type": "stream",
          "text": [
            "5\n"
          ]
        },
        {
          "output_type": "display_data",
          "data": {
            "text/plain": [
              "\n",
              "Compare criterion 2 to 5 \u001b[1;35m[1/2/3/4/5/6/7/8/9]\u001b[0m: "
            ],
            "text/html": [
              "<pre style=\"white-space:pre;overflow-x:auto;line-height:normal;font-family:Menlo,'DejaVu Sans Mono',consolas,'Courier New',monospace\">\n",
              "Compare criterion 2 to 5 <span style=\"color: #800080; text-decoration-color: #800080; font-weight: bold\">[1/2/3/4/5/6/7/8/9]</span>: </pre>\n"
            ]
          },
          "metadata": {}
        },
        {
          "name": "stdout",
          "output_type": "stream",
          "text": [
            "7\n"
          ]
        },
        {
          "output_type": "display_data",
          "data": {
            "text/plain": [
              "\n",
              "Compare criterion 3 to 4 \u001b[1;35m[1/2/3/4/5/6/7/8/9]\u001b[0m: "
            ],
            "text/html": [
              "<pre style=\"white-space:pre;overflow-x:auto;line-height:normal;font-family:Menlo,'DejaVu Sans Mono',consolas,'Courier New',monospace\">\n",
              "Compare criterion 3 to 4 <span style=\"color: #800080; text-decoration-color: #800080; font-weight: bold\">[1/2/3/4/5/6/7/8/9]</span>: </pre>\n"
            ]
          },
          "metadata": {}
        },
        {
          "name": "stdout",
          "output_type": "stream",
          "text": [
            "3\n"
          ]
        },
        {
          "output_type": "display_data",
          "data": {
            "text/plain": [
              "\n",
              "Compare criterion 3 to 5 \u001b[1;35m[1/2/3/4/5/6/7/8/9]\u001b[0m: "
            ],
            "text/html": [
              "<pre style=\"white-space:pre;overflow-x:auto;line-height:normal;font-family:Menlo,'DejaVu Sans Mono',consolas,'Courier New',monospace\">\n",
              "Compare criterion 3 to 5 <span style=\"color: #800080; text-decoration-color: #800080; font-weight: bold\">[1/2/3/4/5/6/7/8/9]</span>: </pre>\n"
            ]
          },
          "metadata": {}
        },
        {
          "name": "stdout",
          "output_type": "stream",
          "text": [
            "5\n"
          ]
        },
        {
          "output_type": "display_data",
          "data": {
            "text/plain": [
              "\n",
              "Compare criterion 4 to 5 \u001b[1;35m[1/2/3/4/5/6/7/8/9]\u001b[0m: "
            ],
            "text/html": [
              "<pre style=\"white-space:pre;overflow-x:auto;line-height:normal;font-family:Menlo,'DejaVu Sans Mono',consolas,'Courier New',monospace\">\n",
              "Compare criterion 4 to 5 <span style=\"color: #800080; text-decoration-color: #800080; font-weight: bold\">[1/2/3/4/5/6/7/8/9]</span>: </pre>\n"
            ]
          },
          "metadata": {}
        },
        {
          "name": "stdout",
          "output_type": "stream",
          "text": [
            "3\n"
          ]
        }
      ]
    },
    {
      "cell_type": "code",
      "source": [
        "panel(title(\"Criteria Pairwise Matrix\"), fit=True)\n",
        "table((number_criteria, number_criteria), criteria_matrix, \"Criteria\", \"C\", \"C\")"
      ],
      "metadata": {
        "id": "qSTwRiecTUAA",
        "outputId": "88de13e6-e65c-49f4-98c8-99b1444b6658",
        "colab": {
          "base_uri": "https://localhost:8080/",
          "height": 221
        }
      },
      "execution_count": 161,
      "outputs": [
        {
          "output_type": "display_data",
          "data": {
            "text/plain": [
              "╭──────────────────────────╮\n",
              "│ Criteria Pairwise Matrix │\n",
              "╰──────────────────────────╯\n"
            ],
            "text/html": [
              "<pre style=\"white-space:pre;overflow-x:auto;line-height:normal;font-family:Menlo,'DejaVu Sans Mono',consolas,'Courier New',monospace\">╭──────────────────────────╮\n",
              "│ Criteria Pairwise Matrix │\n",
              "╰──────────────────────────╯\n",
              "</pre>\n"
            ]
          },
          "metadata": {}
        },
        {
          "output_type": "display_data",
          "data": {
            "text/plain": [
              "┏━━━━━━━━━━┳━━━━━━━━━━━┳━━━━━━━━━━━┳━━━━━━━━━━━┳━━━━━━━━━━━┳━━━━┓\n",
              "┃\u001b[1m \u001b[0m\u001b[1mCriteria\u001b[0m\u001b[1m \u001b[0m┃\u001b[1m \u001b[0m\u001b[1m   C1    \u001b[0m\u001b[1m \u001b[0m┃\u001b[1m \u001b[0m\u001b[1m   C2    \u001b[0m\u001b[1m \u001b[0m┃\u001b[1m \u001b[0m\u001b[1m   C3    \u001b[0m\u001b[1m \u001b[0m┃\u001b[1m \u001b[0m\u001b[1m   C4    \u001b[0m\u001b[1m \u001b[0m┃\u001b[1m \u001b[0m\u001b[1mC5\u001b[0m\u001b[1m \u001b[0m┃\n",
              "┡━━━━━━━━━━╇━━━━━━━━━━━╇━━━━━━━━━━━╇━━━━━━━━━━━╇━━━━━━━━━━━╇━━━━┩\n",
              "│    C1    │     1     │     3     │     5     │     7     │ 9  │\n",
              "│    C2    │ 0.3333333 │     1     │     3     │     5     │ 7  │\n",
              "│    C3    │    0.2    │ 0.3333333 │     1     │     3     │ 5  │\n",
              "│    C4    │ 0.1428571 │    0.2    │ 0.3333333 │     1     │ 3  │\n",
              "│    C5    │ 0.1111111 │ 0.1428571 │    0.2    │ 0.3333333 │ 1  │\n",
              "└──────────┴───────────┴───────────┴───────────┴───────────┴────┘\n"
            ],
            "text/html": [
              "<pre style=\"white-space:pre;overflow-x:auto;line-height:normal;font-family:Menlo,'DejaVu Sans Mono',consolas,'Courier New',monospace\">┏━━━━━━━━━━┳━━━━━━━━━━━┳━━━━━━━━━━━┳━━━━━━━━━━━┳━━━━━━━━━━━┳━━━━┓\n",
              "┃<span style=\"font-weight: bold\"> Criteria </span>┃<span style=\"font-weight: bold\">    C1     </span>┃<span style=\"font-weight: bold\">    C2     </span>┃<span style=\"font-weight: bold\">    C3     </span>┃<span style=\"font-weight: bold\">    C4     </span>┃<span style=\"font-weight: bold\"> C5 </span>┃\n",
              "┡━━━━━━━━━━╇━━━━━━━━━━━╇━━━━━━━━━━━╇━━━━━━━━━━━╇━━━━━━━━━━━╇━━━━┩\n",
              "│    C1    │     1     │     3     │     5     │     7     │ 9  │\n",
              "│    C2    │ 0.3333333 │     1     │     3     │     5     │ 7  │\n",
              "│    C3    │    0.2    │ 0.3333333 │     1     │     3     │ 5  │\n",
              "│    C4    │ 0.1428571 │    0.2    │ 0.3333333 │     1     │ 3  │\n",
              "│    C5    │ 0.1111111 │ 0.1428571 │    0.2    │ 0.3333333 │ 1  │\n",
              "└──────────┴───────────┴───────────┴───────────┴───────────┴────┘\n",
              "</pre>\n"
            ]
          },
          "metadata": {}
        }
      ]
    },
    {
      "cell_type": "code",
      "source": [
        "def normalize_matrix(matrix):\n",
        "    \"\"\"Normalize the matrix by dividing each element by the column sum.\"\"\"\n",
        "    col_sums = np.sum(matrix, axis=0)\n",
        "    return matrix / col_sums"
      ],
      "metadata": {
        "id": "W8eIfn1-jBPM"
      },
      "execution_count": 92,
      "outputs": []
    },
    {
      "cell_type": "code",
      "source": [
        "def matrix_shape(matrix):\n",
        "  return matrix.shape[0]"
      ],
      "metadata": {
        "id": "e_55HucrAFFM"
      },
      "execution_count": 126,
      "outputs": []
    },
    {
      "cell_type": "code",
      "source": [
        "shape = matrix_shape(criteria_matrix)\n",
        "normalized = normalize_matrix(criteria_matrix)\n",
        "\n",
        "panel(title(\"Normalized Pairwise Matrix\"), fit=True)\n",
        "table((shape, shape), normalized, \"Criteria\", \"C\", \"C\")"
      ],
      "metadata": {
        "id": "ZsxBTtSpjnTh",
        "outputId": "18f6c44a-ef79-4994-cdc3-9366b6a0be7e",
        "colab": {
          "base_uri": "https://localhost:8080/",
          "height": 221
        }
      },
      "execution_count": 127,
      "outputs": [
        {
          "output_type": "display_data",
          "data": {
            "text/plain": [
              "╭────────────────────────────╮\n",
              "│ Normalized Pairwise Matrix │\n",
              "╰────────────────────────────╯\n"
            ],
            "text/html": [
              "<pre style=\"white-space:pre;overflow-x:auto;line-height:normal;font-family:Menlo,'DejaVu Sans Mono',consolas,'Courier New',monospace\">╭────────────────────────────╮\n",
              "│ Normalized Pairwise Matrix │\n",
              "╰────────────────────────────╯\n",
              "</pre>\n"
            ]
          },
          "metadata": {}
        },
        {
          "output_type": "display_data",
          "data": {
            "text/plain": [
              "┏━━━━━━━━━━┳━━━━━━━━━━━┳━━━━━━━━━━━┳━━━━━━━━━━━┳━━━━━━━━━━━┳━━━━━━┓\n",
              "┃\u001b[1m \u001b[0m\u001b[1mCriteria\u001b[0m\u001b[1m \u001b[0m┃\u001b[1m \u001b[0m\u001b[1m   C1    \u001b[0m\u001b[1m \u001b[0m┃\u001b[1m \u001b[0m\u001b[1m   C2    \u001b[0m\u001b[1m \u001b[0m┃\u001b[1m \u001b[0m\u001b[1m   C3    \u001b[0m\u001b[1m \u001b[0m┃\u001b[1m \u001b[0m\u001b[1m   C4    \u001b[0m\u001b[1m \u001b[0m┃\u001b[1m \u001b[0m\u001b[1m C5 \u001b[0m\u001b[1m \u001b[0m┃\n",
              "┡━━━━━━━━━━╇━━━━━━━━━━━╇━━━━━━━━━━━╇━━━━━━━━━━━╇━━━━━━━━━━━╇━━━━━━┩\n",
              "│    C1    │ 0.5595027 │ 0.6415479 │ 0.5244755 │ 0.4285714 │ 0.36 │\n",
              "│    C2    │ 0.1865009 │ 0.2138493 │ 0.3146853 │ 0.3061224 │ 0.28 │\n",
              "│    C3    │ 0.1119005 │ 0.0712831 │ 0.1048951 │ 0.1836735 │ 0.2  │\n",
              "│    C4    │ 0.079929  │ 0.0427699 │ 0.034965  │ 0.0612245 │ 0.12 │\n",
              "│    C5    │ 0.062167  │ 0.0305499 │ 0.020979  │ 0.0204082 │ 0.04 │\n",
              "└──────────┴───────────┴───────────┴───────────┴───────────┴──────┘\n"
            ],
            "text/html": [
              "<pre style=\"white-space:pre;overflow-x:auto;line-height:normal;font-family:Menlo,'DejaVu Sans Mono',consolas,'Courier New',monospace\">┏━━━━━━━━━━┳━━━━━━━━━━━┳━━━━━━━━━━━┳━━━━━━━━━━━┳━━━━━━━━━━━┳━━━━━━┓\n",
              "┃<span style=\"font-weight: bold\"> Criteria </span>┃<span style=\"font-weight: bold\">    C1     </span>┃<span style=\"font-weight: bold\">    C2     </span>┃<span style=\"font-weight: bold\">    C3     </span>┃<span style=\"font-weight: bold\">    C4     </span>┃<span style=\"font-weight: bold\">  C5  </span>┃\n",
              "┡━━━━━━━━━━╇━━━━━━━━━━━╇━━━━━━━━━━━╇━━━━━━━━━━━╇━━━━━━━━━━━╇━━━━━━┩\n",
              "│    C1    │ 0.5595027 │ 0.6415479 │ 0.5244755 │ 0.4285714 │ 0.36 │\n",
              "│    C2    │ 0.1865009 │ 0.2138493 │ 0.3146853 │ 0.3061224 │ 0.28 │\n",
              "│    C3    │ 0.1119005 │ 0.0712831 │ 0.1048951 │ 0.1836735 │ 0.2  │\n",
              "│    C4    │ 0.079929  │ 0.0427699 │ 0.034965  │ 0.0612245 │ 0.12 │\n",
              "│    C5    │ 0.062167  │ 0.0305499 │ 0.020979  │ 0.0204082 │ 0.04 │\n",
              "└──────────┴───────────┴───────────┴───────────┴───────────┴──────┘\n",
              "</pre>\n"
            ]
          },
          "metadata": {}
        }
      ]
    },
    {
      "cell_type": "code",
      "source": [
        "def sum_matrix(matrix):\n",
        "    \"\"\"Calculate the sum of each row in the matrix.\"\"\"\n",
        "    return np.sum(matrix, axis=1)"
      ],
      "metadata": {
        "id": "yafBbFSNAWR4"
      },
      "execution_count": 128,
      "outputs": []
    },
    {
      "cell_type": "code",
      "source": [
        "n_sum = sum_matrix(normalized)\n",
        "sum_matrix, sum_matrix_row, sum_matrix_column = transpose(n_sum)\n",
        "\n",
        "panel(title(\"Sum of Normalized Matrix\"), fit=True)\n",
        "table((sum_matrix_column, sum_matrix_row), sum_matrix, \"Criteria\", \"C\", \"C\")"
      ],
      "metadata": {
        "id": "qZLj7Xz9kT0M",
        "outputId": "84ec52dd-4c34-4dcb-fa42-6580b64c64ec",
        "colab": {
          "base_uri": "https://localhost:8080/",
          "height": 221
        }
      },
      "execution_count": 129,
      "outputs": [
        {
          "output_type": "display_data",
          "data": {
            "text/plain": [
              "╭──────────────────────────╮\n",
              "│ Sum of Normalized Matrix │\n",
              "╰──────────────────────────╯\n"
            ],
            "text/html": [
              "<pre style=\"white-space:pre;overflow-x:auto;line-height:normal;font-family:Menlo,'DejaVu Sans Mono',consolas,'Courier New',monospace\">╭──────────────────────────╮\n",
              "│ Sum of Normalized Matrix │\n",
              "╰──────────────────────────╯\n",
              "</pre>\n"
            ]
          },
          "metadata": {}
        },
        {
          "output_type": "display_data",
          "data": {
            "text/plain": [
              "┏━━━━━━━━━━┳━━━━━━━━━━━┓\n",
              "┃\u001b[1m \u001b[0m\u001b[1mCriteria\u001b[0m\u001b[1m \u001b[0m┃\u001b[1m \u001b[0m\u001b[1m   C1    \u001b[0m\u001b[1m \u001b[0m┃\n",
              "┡━━━━━━━━━━╇━━━━━━━━━━━┩\n",
              "│    C1    │ 2.5140975 │\n",
              "│    C2    │ 1.3011579 │\n",
              "│    C3    │ 0.6717522 │\n",
              "│    C4    │ 0.3388883 │\n",
              "│    C5    │ 0.174104  │\n",
              "└──────────┴───────────┘\n"
            ],
            "text/html": [
              "<pre style=\"white-space:pre;overflow-x:auto;line-height:normal;font-family:Menlo,'DejaVu Sans Mono',consolas,'Courier New',monospace\">┏━━━━━━━━━━┳━━━━━━━━━━━┓\n",
              "┃<span style=\"font-weight: bold\"> Criteria </span>┃<span style=\"font-weight: bold\">    C1     </span>┃\n",
              "┡━━━━━━━━━━╇━━━━━━━━━━━┩\n",
              "│    C1    │ 2.5140975 │\n",
              "│    C2    │ 1.3011579 │\n",
              "│    C3    │ 0.6717522 │\n",
              "│    C4    │ 0.3388883 │\n",
              "│    C5    │ 0.174104  │\n",
              "└──────────┴───────────┘\n",
              "</pre>\n"
            ]
          },
          "metadata": {}
        }
      ]
    },
    {
      "cell_type": "code",
      "source": [
        "def calculate_priority_vector(normalized_matrix):\n",
        "    \"\"\"Calculate the priority vector by averaging the rows.\"\"\"\n",
        "    return np.mean(normalized_matrix, axis=1)"
      ],
      "metadata": {
        "id": "_F-bpfKdk9fn"
      },
      "execution_count": 97,
      "outputs": []
    },
    {
      "cell_type": "code",
      "source": [
        "vector_weights = calculate_priority_vector(normalized)\n",
        "priority_matrix, priority_matrix_row, priority_matrix_column = transpose(vector_weights)\n",
        "\n",
        "panel(title(\"Average of Normalized Matrix\\n(Priority Vector / Criteria Weights)\"), fit=True)\n",
        "table((priority_matrix_column, priority_matrix_row), priority_matrix, \"Criteria\", \"C\", \"C\")"
      ],
      "metadata": {
        "id": "rlqEpuknmPaU",
        "outputId": "96b76fc1-fdd9-4bc2-f980-26ce220b0517",
        "colab": {
          "base_uri": "https://localhost:8080/",
          "height": 238
        }
      },
      "execution_count": 100,
      "outputs": [
        {
          "output_type": "display_data",
          "data": {
            "text/plain": [
              "╭──────────────────────────────────────╮\n",
              "│     Average of Normalized Matrix     │\n",
              "│ (Priority Vector / Criteria Weights) │\n",
              "╰──────────────────────────────────────╯\n"
            ],
            "text/html": [
              "<pre style=\"white-space:pre;overflow-x:auto;line-height:normal;font-family:Menlo,'DejaVu Sans Mono',consolas,'Courier New',monospace\">╭──────────────────────────────────────╮\n",
              "│     Average of Normalized Matrix     │\n",
              "│ (Priority Vector / Criteria Weights) │\n",
              "╰──────────────────────────────────────╯\n",
              "</pre>\n"
            ]
          },
          "metadata": {}
        },
        {
          "output_type": "display_data",
          "data": {
            "text/plain": [
              "┏━━━━━━━━━━┳━━━━━━━━━━━┓\n",
              "┃\u001b[1m \u001b[0m\u001b[1mCriteria\u001b[0m\u001b[1m \u001b[0m┃\u001b[1m \u001b[0m\u001b[1m   C1    \u001b[0m\u001b[1m \u001b[0m┃\n",
              "┡━━━━━━━━━━╇━━━━━━━━━━━┩\n",
              "│    C1    │ 0.5028195 │\n",
              "│    C2    │ 0.2602316 │\n",
              "│    C3    │ 0.1343504 │\n",
              "│    C4    │ 0.0677777 │\n",
              "│    C5    │ 0.0348208 │\n",
              "└──────────┴───────────┘\n"
            ],
            "text/html": [
              "<pre style=\"white-space:pre;overflow-x:auto;line-height:normal;font-family:Menlo,'DejaVu Sans Mono',consolas,'Courier New',monospace\">┏━━━━━━━━━━┳━━━━━━━━━━━┓\n",
              "┃<span style=\"font-weight: bold\"> Criteria </span>┃<span style=\"font-weight: bold\">    C1     </span>┃\n",
              "┡━━━━━━━━━━╇━━━━━━━━━━━┩\n",
              "│    C1    │ 0.5028195 │\n",
              "│    C2    │ 0.2602316 │\n",
              "│    C3    │ 0.1343504 │\n",
              "│    C4    │ 0.0677777 │\n",
              "│    C5    │ 0.0348208 │\n",
              "└──────────┴───────────┘\n",
              "</pre>\n"
            ]
          },
          "metadata": {}
        }
      ]
    },
    {
      "cell_type": "code",
      "source": [
        "def product_matrix(matrix, priority):\n",
        "    \"\"\"Calculate the product of each row in the matrix.\"\"\"\n",
        "    return np.dot(matrix, priority)"
      ],
      "metadata": {
        "id": "FXhEHYM0AmNe"
      },
      "execution_count": 130,
      "outputs": []
    },
    {
      "cell_type": "code",
      "source": [
        "priority_product = product_matrix(criteria_matrix, priority_matrix)\n",
        "product_matrix, product_matrix_row, product_matrix_column = transpose(priority_product)\n",
        "\n",
        "panel(title(\"Product of Criteria Weights Matrix\"), fit=True)\n",
        "table((product_matrix_column, product_matrix_row), product_matrix, \"Criteria\", \"C\", \"C\")"
      ],
      "metadata": {
        "id": "CGcZJLfwn5yk",
        "outputId": "6c6278c4-a0b9-40f9-aadc-4e2addea15b8",
        "colab": {
          "base_uri": "https://localhost:8080/",
          "height": 221
        }
      },
      "execution_count": 131,
      "outputs": [
        {
          "output_type": "display_data",
          "data": {
            "text/plain": [
              "╭────────────────────────────────────╮\n",
              "│ Product of Criteria Weights Matrix │\n",
              "╰────────────────────────────────────╯\n"
            ],
            "text/html": [
              "<pre style=\"white-space:pre;overflow-x:auto;line-height:normal;font-family:Menlo,'DejaVu Sans Mono',consolas,'Courier New',monospace\">╭────────────────────────────────────╮\n",
              "│ Product of Criteria Weights Matrix │\n",
              "╰────────────────────────────────────╯\n",
              "</pre>\n"
            ]
          },
          "metadata": {}
        },
        {
          "output_type": "display_data",
          "data": {
            "text/plain": [
              "┏━━━━━━━━━━┳━━━━━━━━━━━┓\n",
              "┃\u001b[1m \u001b[0m\u001b[1mCriteria\u001b[0m\u001b[1m \u001b[0m┃\u001b[1m \u001b[0m\u001b[1m   C1    \u001b[0m\u001b[1m \u001b[0m┃\n",
              "┡━━━━━━━━━━╇━━━━━━━━━━━┩\n",
              "│    C1    │ 2.7430974 │\n",
              "│    C2    │ 1.4135234 │\n",
              "│    C3    │ 0.6990952 │\n",
              "│    C4    │ 0.3409012 │\n",
              "│    C5    │ 0.1773282 │\n",
              "└──────────┴───────────┘\n"
            ],
            "text/html": [
              "<pre style=\"white-space:pre;overflow-x:auto;line-height:normal;font-family:Menlo,'DejaVu Sans Mono',consolas,'Courier New',monospace\">┏━━━━━━━━━━┳━━━━━━━━━━━┓\n",
              "┃<span style=\"font-weight: bold\"> Criteria </span>┃<span style=\"font-weight: bold\">    C1     </span>┃\n",
              "┡━━━━━━━━━━╇━━━━━━━━━━━┩\n",
              "│    C1    │ 2.7430974 │\n",
              "│    C2    │ 1.4135234 │\n",
              "│    C3    │ 0.6990952 │\n",
              "│    C4    │ 0.3409012 │\n",
              "│    C5    │ 0.1773282 │\n",
              "└──────────┴───────────┘\n",
              "</pre>\n"
            ]
          },
          "metadata": {}
        }
      ]
    },
    {
      "cell_type": "code",
      "source": [
        "def cm_matrix(product, priority):\n",
        "    \"\"\"Calculate the product of each row in the matrix.\"\"\"\n",
        "    return product / priority"
      ],
      "metadata": {
        "id": "nL9hG44nA0S1"
      },
      "execution_count": 132,
      "outputs": []
    },
    {
      "cell_type": "code",
      "source": [
        "cm = cm_matrix(product_matrix, priority_matrix)\n",
        "cm_matrix, cm_matrix_row, cm_matrix_column = transpose(cm)\n",
        "\n",
        "panel(title(\"Criteria Measure Matrix\"), fit=True)\n",
        "table((cm_matrix_column, cm_matrix_row), cm_matrix, \"Criteria\", \"C\", \"C\")"
      ],
      "metadata": {
        "id": "LO2qC7iH5-OM",
        "outputId": "3b685f82-ab22-48f2-85f9-2b9605ebf49d",
        "colab": {
          "base_uri": "https://localhost:8080/",
          "height": 221
        }
      },
      "execution_count": 133,
      "outputs": [
        {
          "output_type": "display_data",
          "data": {
            "text/plain": [
              "╭─────────────────────────╮\n",
              "│ Criteria Measure Matrix │\n",
              "╰─────────────────────────╯\n"
            ],
            "text/html": [
              "<pre style=\"white-space:pre;overflow-x:auto;line-height:normal;font-family:Menlo,'DejaVu Sans Mono',consolas,'Courier New',monospace\">╭─────────────────────────╮\n",
              "│ Criteria Measure Matrix │\n",
              "╰─────────────────────────╯\n",
              "</pre>\n"
            ]
          },
          "metadata": {}
        },
        {
          "output_type": "display_data",
          "data": {
            "text/plain": [
              "┏━━━━━━━━━━┳━━━━━━━━━━━┓\n",
              "┃\u001b[1m \u001b[0m\u001b[1mCriteria\u001b[0m\u001b[1m \u001b[0m┃\u001b[1m \u001b[0m\u001b[1m   C1    \u001b[0m\u001b[1m \u001b[0m┃\n",
              "┡━━━━━━━━━━╇━━━━━━━━━━━┩\n",
              "│    C1    │ 5.4554317 │\n",
              "│    C2    │ 5.4317903 │\n",
              "│    C3    │ 5.2035203 │\n",
              "│    C4    │ 5.0296988 │\n",
              "│    C5    │ 5.0925935 │\n",
              "└──────────┴───────────┘\n"
            ],
            "text/html": [
              "<pre style=\"white-space:pre;overflow-x:auto;line-height:normal;font-family:Menlo,'DejaVu Sans Mono',consolas,'Courier New',monospace\">┏━━━━━━━━━━┳━━━━━━━━━━━┓\n",
              "┃<span style=\"font-weight: bold\"> Criteria </span>┃<span style=\"font-weight: bold\">    C1     </span>┃\n",
              "┡━━━━━━━━━━╇━━━━━━━━━━━┩\n",
              "│    C1    │ 5.4554317 │\n",
              "│    C2    │ 5.4317903 │\n",
              "│    C3    │ 5.2035203 │\n",
              "│    C4    │ 5.0296988 │\n",
              "│    C5    │ 5.0925935 │\n",
              "└──────────┴───────────┘\n",
              "</pre>\n"
            ]
          },
          "metadata": {}
        }
      ]
    },
    {
      "cell_type": "code",
      "source": [
        "def lambda_max(matrix):\n",
        "    \"\"\"Calculate the average / mean of each row in the matrix.\"\"\"\n",
        "    return np.mean(matrix)"
      ],
      "metadata": {
        "id": "6X0wvX9TA-HX"
      },
      "execution_count": 143,
      "outputs": []
    },
    {
      "cell_type": "code",
      "source": [
        "lambda_max = lambda_max(cm_matrix)\n",
        "panel(title(f\"Average Criteria Measure Matrix\"), fit=True)\n",
        "panel(title(f\"{lambda_max}\"), fit=True)"
      ],
      "metadata": {
        "id": "J_xu1vS_8Zj-",
        "outputId": "3850c406-2e28-404a-f285-2972ebda6b20",
        "colab": {
          "base_uri": "https://localhost:8080/",
          "height": 119
        }
      },
      "execution_count": 144,
      "outputs": [
        {
          "output_type": "display_data",
          "data": {
            "text/plain": [
              "╭─────────────────────────────────╮\n",
              "│ Average Criteria Measure Matrix │\n",
              "╰─────────────────────────────────╯\n"
            ],
            "text/html": [
              "<pre style=\"white-space:pre;overflow-x:auto;line-height:normal;font-family:Menlo,'DejaVu Sans Mono',consolas,'Courier New',monospace\">╭─────────────────────────────────╮\n",
              "│ Average Criteria Measure Matrix │\n",
              "╰─────────────────────────────────╯\n",
              "</pre>\n"
            ]
          },
          "metadata": {}
        },
        {
          "output_type": "display_data",
          "data": {
            "text/plain": [
              "╭──────────────────╮\n",
              "│ 5.24260691753116 │\n",
              "╰──────────────────╯\n"
            ],
            "text/html": [
              "<pre style=\"white-space:pre;overflow-x:auto;line-height:normal;font-family:Menlo,'DejaVu Sans Mono',consolas,'Courier New',monospace\">╭──────────────────╮\n",
              "│ 5.24260691753116 │\n",
              "╰──────────────────╯\n",
              "</pre>\n"
            ]
          },
          "metadata": {}
        }
      ]
    },
    {
      "cell_type": "code",
      "source": [
        "def ci_matrix(cm_matrix, number_criteria):\n",
        "    \"\"\"Calculate the product of each row in the matrix.\"\"\"\n",
        "    return (cm_matrix - number_criteria) / (number_criteria - 1)"
      ],
      "metadata": {
        "id": "BWlH2kZ7BTMj"
      },
      "execution_count": 145,
      "outputs": []
    },
    {
      "cell_type": "code",
      "source": [
        "ci = ci_matrix(lambda_max, number_criteria)\n",
        "panel(title(f\"Calculate the Consistency Index (CI)\"), fit=True)\n",
        "panel(title(f\"{ci}\"), fit=True)"
      ],
      "metadata": {
        "id": "ZHkf6xZQ9Hn8",
        "outputId": "361a4348-9e2d-4b52-9d0b-7037e0de187a",
        "colab": {
          "base_uri": "https://localhost:8080/",
          "height": 119
        }
      },
      "execution_count": 146,
      "outputs": [
        {
          "output_type": "display_data",
          "data": {
            "text/plain": [
              "╭──────────────────────────────────────╮\n",
              "│ Calculate the Consistency Index (CI) │\n",
              "╰──────────────────────────────────────╯\n"
            ],
            "text/html": [
              "<pre style=\"white-space:pre;overflow-x:auto;line-height:normal;font-family:Menlo,'DejaVu Sans Mono',consolas,'Courier New',monospace\">╭──────────────────────────────────────╮\n",
              "│ Calculate the Consistency Index (CI) │\n",
              "╰──────────────────────────────────────╯\n",
              "</pre>\n"
            ]
          },
          "metadata": {}
        },
        {
          "output_type": "display_data",
          "data": {
            "text/plain": [
              "╭──────────────────────╮\n",
              "│ 0.060651729382789954 │\n",
              "╰──────────────────────╯\n"
            ],
            "text/html": [
              "<pre style=\"white-space:pre;overflow-x:auto;line-height:normal;font-family:Menlo,'DejaVu Sans Mono',consolas,'Courier New',monospace\">╭──────────────────────╮\n",
              "│ 0.060651729382789954 │\n",
              "╰──────────────────────╯\n",
              "</pre>\n"
            ]
          },
          "metadata": {}
        }
      ]
    },
    {
      "cell_type": "code",
      "source": [
        "def ri(ordo, index):\n",
        "  array = np.array(list(ordo.values()))\n",
        "  item = ordo.get(index, 1.49)\n",
        "  return [array, item]"
      ],
      "metadata": {
        "id": "qZSEecnFBphr"
      },
      "execution_count": 152,
      "outputs": []
    },
    {
      "cell_type": "code",
      "source": [
        "\n",
        "ri_data = {\n",
        "    1: 0.00, 2: 0.00, 3: 0.58, 4: 0.90, 5: 1.12,\n",
        "    6: 1.24, 7: 1.32, 8: 1.41, 9: 1.45, 10: 1.49\n",
        "}\n",
        "\n",
        "ri_array, ri = ri(ri_data, number_criteria)\n",
        "ri_matrix, ri_row, ri_column = transpose(ri_array)\n",
        "table((ri_column, ri_row), ri_matrix, \"Ordo\", \"Ratio\", icol=False)\n",
        "\n",
        "space()\n",
        "\n",
        "panel(title(f\"Get Ratio Index (RI) based on Criteria\"), fit=True)\n",
        "panel(title(f\"{ri}\"), fit=True)\n"
      ],
      "metadata": {
        "id": "vUpXXSNM9qaZ",
        "outputId": "c3310779-9182-42f9-8164-f7e35e983e64",
        "colab": {
          "base_uri": "https://localhost:8080/",
          "height": 408
        }
      },
      "execution_count": 155,
      "outputs": [
        {
          "output_type": "display_data",
          "data": {
            "text/plain": [
              "┏━━━━━━┳━━━━━━━┓\n",
              "┃\u001b[1m \u001b[0m\u001b[1mOrdo\u001b[0m\u001b[1m \u001b[0m┃\u001b[1m \u001b[0m\u001b[1mRatio\u001b[0m\u001b[1m \u001b[0m┃\n",
              "┡━━━━━━╇━━━━━━━┩\n",
              "│  1   │   0   │\n",
              "│  2   │   0   │\n",
              "│  3   │ 0.58  │\n",
              "│  4   │  0.9  │\n",
              "│  5   │ 1.12  │\n",
              "│  6   │ 1.24  │\n",
              "│  7   │ 1.32  │\n",
              "│  8   │ 1.41  │\n",
              "│  9   │ 1.45  │\n",
              "│  10  │ 1.49  │\n",
              "└──────┴───────┘\n"
            ],
            "text/html": [
              "<pre style=\"white-space:pre;overflow-x:auto;line-height:normal;font-family:Menlo,'DejaVu Sans Mono',consolas,'Courier New',monospace\">┏━━━━━━┳━━━━━━━┓\n",
              "┃<span style=\"font-weight: bold\"> Ordo </span>┃<span style=\"font-weight: bold\"> Ratio </span>┃\n",
              "┡━━━━━━╇━━━━━━━┩\n",
              "│  1   │   0   │\n",
              "│  2   │   0   │\n",
              "│  3   │ 0.58  │\n",
              "│  4   │  0.9  │\n",
              "│  5   │ 1.12  │\n",
              "│  6   │ 1.24  │\n",
              "│  7   │ 1.32  │\n",
              "│  8   │ 1.41  │\n",
              "│  9   │ 1.45  │\n",
              "│  10  │ 1.49  │\n",
              "└──────┴───────┘\n",
              "</pre>\n"
            ]
          },
          "metadata": {}
        },
        {
          "output_type": "display_data",
          "data": {
            "text/plain": [
              "                                                                                                                   \n",
              "                                                                                                                   \n",
              "                                                                                                                   \n"
            ],
            "text/html": [
              "<pre style=\"white-space:pre;overflow-x:auto;line-height:normal;font-family:Menlo,'DejaVu Sans Mono',consolas,'Courier New',monospace\">                                                                                                                   \n",
              "                                                                                                                   \n",
              "                                                                                                                   \n",
              "</pre>\n"
            ]
          },
          "metadata": {}
        },
        {
          "output_type": "display_data",
          "data": {
            "text/plain": [
              "╭────────────────────────────────────────╮\n",
              "│ Get Ratio Index (RI) based on Criteria │\n",
              "╰────────────────────────────────────────╯\n"
            ],
            "text/html": [
              "<pre style=\"white-space:pre;overflow-x:auto;line-height:normal;font-family:Menlo,'DejaVu Sans Mono',consolas,'Courier New',monospace\">╭────────────────────────────────────────╮\n",
              "│ Get Ratio Index (RI) based on Criteria │\n",
              "╰────────────────────────────────────────╯\n",
              "</pre>\n"
            ]
          },
          "metadata": {}
        },
        {
          "output_type": "display_data",
          "data": {
            "text/plain": [
              "╭──────╮\n",
              "│ 1.12 │\n",
              "╰──────╯\n"
            ],
            "text/html": [
              "<pre style=\"white-space:pre;overflow-x:auto;line-height:normal;font-family:Menlo,'DejaVu Sans Mono',consolas,'Courier New',monospace\">╭──────╮\n",
              "│ 1.12 │\n",
              "╰──────╯\n",
              "</pre>\n"
            ]
          },
          "metadata": {}
        }
      ]
    },
    {
      "cell_type": "code",
      "source": [
        "def cr(ci, ri):\n",
        "  return ci / ri"
      ],
      "metadata": {
        "id": "3tQDWIv3C_A3"
      },
      "execution_count": 158,
      "outputs": []
    },
    {
      "cell_type": "code",
      "source": [
        "cr = cr(ci, ri)\n",
        "panel(title(f\"Calculate Consistency Ratio (CR)\"), fit=True)\n",
        "panel(title(f\"{cr}\"), fit=True)\n"
      ],
      "metadata": {
        "id": "xExMG4xu_xRl",
        "outputId": "d1336545-53c1-4dbd-e6bb-8fa3a7e19183",
        "colab": {
          "base_uri": "https://localhost:8080/",
          "height": 119
        }
      },
      "execution_count": 159,
      "outputs": [
        {
          "output_type": "display_data",
          "data": {
            "text/plain": [
              "╭──────────────────────────────────╮\n",
              "│ Calculate Consistency Ratio (CR) │\n",
              "╰──────────────────────────────────╯\n"
            ],
            "text/html": [
              "<pre style=\"white-space:pre;overflow-x:auto;line-height:normal;font-family:Menlo,'DejaVu Sans Mono',consolas,'Courier New',monospace\">╭──────────────────────────────────╮\n",
              "│ Calculate Consistency Ratio (CR) │\n",
              "╰──────────────────────────────────╯\n",
              "</pre>\n"
            ]
          },
          "metadata": {}
        },
        {
          "output_type": "display_data",
          "data": {
            "text/plain": [
              "╭─────────────────────╮\n",
              "│ 0.05415332980606245 │\n",
              "╰─────────────────────╯\n"
            ],
            "text/html": [
              "<pre style=\"white-space:pre;overflow-x:auto;line-height:normal;font-family:Menlo,'DejaVu Sans Mono',consolas,'Courier New',monospace\">╭─────────────────────╮\n",
              "│ 0.05415332980606245 │\n",
              "╰─────────────────────╯\n",
              "</pre>\n"
            ]
          },
          "metadata": {}
        }
      ]
    },
    {
      "cell_type": "markdown",
      "source": [
        "### Last Anchor"
      ],
      "metadata": {
        "id": "CElil2ka-l6A"
      }
    }
  ],
  "metadata": {
    "colab": {
      "name": "Welcome To Colab",
      "provenance": [],
      "toc_visible": true,
      "include_colab_link": true
    },
    "kernelspec": {
      "display_name": "Python 3",
      "name": "python3"
    }
  },
  "nbformat": 4,
  "nbformat_minor": 0
}